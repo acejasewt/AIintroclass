{
 "cells": [
  {
   "cell_type": "markdown",
   "metadata": {
    "id": "XiDaKYiAQ51A"
   },
   "source": [
    "### **Flower Classification**"
   ]
  },
  {
   "cell_type": "code",
   "execution_count": 1,
   "metadata": {
    "id": "KKK_Y6VsPy4u"
   },
   "outputs": [
    {
     "ename": "ModuleNotFoundError",
     "evalue": "No module named 'torch'",
     "output_type": "error",
     "traceback": [
      "\u001b[1;31m---------------------------------------------------------------------------\u001b[0m",
      "\u001b[1;31mModuleNotFoundError\u001b[0m                       Traceback (most recent call last)",
      "\u001b[1;32m<ipython-input-1-b400179f2848>\u001b[0m in \u001b[0;36m<module>\u001b[1;34m\u001b[0m\n\u001b[0;32m      1\u001b[0m \u001b[1;31m# Loading Libraires\u001b[0m\u001b[1;33m\u001b[0m\u001b[1;33m\u001b[0m\u001b[1;33m\u001b[0m\u001b[0m\n\u001b[1;32m----> 2\u001b[1;33m \u001b[1;32mimport\u001b[0m \u001b[0mtorch\u001b[0m\u001b[1;33m\u001b[0m\u001b[1;33m\u001b[0m\u001b[0m\n\u001b[0m\u001b[0;32m      3\u001b[0m \u001b[1;32mimport\u001b[0m \u001b[0mtorch\u001b[0m\u001b[1;33m.\u001b[0m\u001b[0mnn\u001b[0m \u001b[1;32mas\u001b[0m \u001b[0mnn\u001b[0m\u001b[1;33m\u001b[0m\u001b[1;33m\u001b[0m\u001b[0m\n\u001b[0;32m      4\u001b[0m \u001b[1;32mimport\u001b[0m \u001b[0mtorch\u001b[0m\u001b[1;33m.\u001b[0m\u001b[0mnn\u001b[0m\u001b[1;33m.\u001b[0m\u001b[0mfunctional\u001b[0m \u001b[1;32mas\u001b[0m \u001b[0mF\u001b[0m\u001b[1;33m\u001b[0m\u001b[1;33m\u001b[0m\u001b[0m\n\u001b[0;32m      5\u001b[0m \u001b[1;32mimport\u001b[0m \u001b[0mnumpy\u001b[0m \u001b[1;32mas\u001b[0m \u001b[0mnp\u001b[0m\u001b[1;33m\u001b[0m\u001b[1;33m\u001b[0m\u001b[0m\n",
      "\u001b[1;31mModuleNotFoundError\u001b[0m: No module named 'torch'"
     ]
    }
   ],
   "source": [
    "# Loading Libraires\n",
    "import torch\n",
    "import torch.nn as nn\n",
    "import torch.nn.functional as F\n",
    "import numpy as np\n",
    "import matplotlib.pyplot as plt\n",
    "from torchvision import transforms\n",
    "from torch.autograd import Variable\n",
    "from torchvision import models\n",
    "from torchvision.datasets import ImageFolder\n",
    "from torch.utils.data import Dataset,DataLoader"
   ]
  },
  {
   "cell_type": "code",
   "execution_count": null,
   "metadata": {},
   "outputs": [],
   "source": [
    "!pip install torch"
   ]
  },
  {
   "cell_type": "code",
   "execution_count": null,
   "metadata": {
    "id": "xgsAc9HvP9M3"
   },
   "outputs": [],
   "source": [
    "is_cuda = False\n",
    "if torch.cuda.is_available():\n",
    "    is_cuda = True"
   ]
  },
  {
   "cell_type": "code",
   "execution_count": null,
   "metadata": {
    "colab": {
     "base_uri": "https://localhost:8080/"
    },
    "id": "rBic2X6hQApw",
    "outputId": "484c4897-3567-4f33-abe7-464acba92230"
   },
   "outputs": [
    {
     "name": "stdout",
     "output_type": "stream",
     "text": [
      "4323 5\n"
     ]
    }
   ],
   "source": [
    "simple_transform = transforms.Compose([transforms.Resize((120,120))\n",
    "                                       ,transforms.ToTensor()\n",
    "                                      ])\n",
    "dataset = ImageFolder('flowers',simple_transform)\n",
    "print(len(dataset), len(dataset.classes))"
   ]
  },
  {
   "cell_type": "code",
   "execution_count": null,
   "metadata": {
    "colab": {
     "base_uri": "https://localhost:8080/"
    },
    "id": "HguqwPtJQCfJ",
    "outputId": "216b3fff-01ae-4065-989a-fbeba1f72c05"
   },
   "outputs": [
    {
     "name": "stderr",
     "output_type": "stream",
     "text": [
      "/usr/local/lib/python3.7/dist-packages/torch/utils/data/dataloader.py:477: UserWarning: This DataLoader will create 3 worker processes in total. Our suggested max number of worker in current system is 2, which is smaller than what this DataLoader is going to create. Please be aware that excessive worker creation might get DataLoader running slow or even freeze, lower the worker number to avoid potential slowness/freeze if necessary.\n",
      "  cpuset_checked))\n"
     ]
    }
   ],
   "source": [
    "#Loader\n",
    "data_loader = DataLoader(dataset,batch_size=16,num_workers=3,shuffle=True)"
   ]
  },
  {
   "cell_type": "code",
   "execution_count": null,
   "metadata": {
    "id": "_GFv2W_0QFfM"
   },
   "outputs": [],
   "source": [
    "#Function to get Mean and std of dataset\n",
    "def get_mean_std(loader):\n",
    "    #VAR[X] = E[X**2] - E[X] **2\n",
    "    channels_sum, channels_squared_sum, num_batches = 0, 0, 0\n",
    "    \n",
    "    for data, _ in loader:\n",
    "        channels_sum +=torch.mean(data, dim=[0,2,3]) #BxCxHxW \n",
    "        channels_squared_sum+=torch.mean(data**2, dim=[0,2,3])\n",
    "        num_batches +=1\n",
    "        \n",
    "    mean = channels_sum/num_batches\n",
    "    std = (channels_squared_sum/num_batches -mean**2)**0.5\n",
    "    \n",
    "    return mean, std"
   ]
  },
  {
   "cell_type": "code",
   "execution_count": null,
   "metadata": {
    "colab": {
     "base_uri": "https://localhost:8080/"
    },
    "id": "yB3SpoChQH29",
    "outputId": "4a92657d-31fd-4b82-baec-63fa24d6ee44"
   },
   "outputs": [
    {
     "name": "stderr",
     "output_type": "stream",
     "text": [
      "/usr/local/lib/python3.7/dist-packages/torch/utils/data/dataloader.py:477: UserWarning: This DataLoader will create 3 worker processes in total. Our suggested max number of worker in current system is 2, which is smaller than what this DataLoader is going to create. Please be aware that excessive worker creation might get DataLoader running slow or even freeze, lower the worker number to avoid potential slowness/freeze if necessary.\n",
      "  cpuset_checked))\n"
     ]
    },
    {
     "name": "stdout",
     "output_type": "stream",
     "text": [
      "tensor([0.4586, 0.4200, 0.3005])\n",
      "tensor([0.2893, 0.2586, 0.2820])\n"
     ]
    }
   ],
   "source": [
    "mean, std = get_mean_std(data_loader)\n",
    "print(mean)\n",
    "print(std)"
   ]
  },
  {
   "cell_type": "code",
   "execution_count": null,
   "metadata": {
    "colab": {
     "base_uri": "https://localhost:8080/"
    },
    "id": "1-XVG6QiQMCk",
    "outputId": "593b0d70-702e-4c67-de8d-95d5a32f4978"
   },
   "outputs": [
    {
     "name": "stdout",
     "output_type": "stream",
     "text": [
      "4323 5\n"
     ]
    }
   ],
   "source": [
    "simple_transform = transforms.Compose([transforms.Resize((120,120))\n",
    "                                       ,transforms.ToTensor()\n",
    "                                      ])\n",
    "dataset = ImageFolder('flowers',simple_transform)\n",
    "print(len(dataset), len(dataset.classes))"
   ]
  },
  {
   "cell_type": "code",
   "execution_count": null,
   "metadata": {
    "id": "g3-5rwZhQMlX"
   },
   "outputs": [],
   "source": [
    "#Spliting the dataset into training and testing\n",
    "train, val = torch.utils.data.random_split(dataset, [3000,1323])"
   ]
  },
  {
   "cell_type": "code",
   "execution_count": null,
   "metadata": {
    "colab": {
     "base_uri": "https://localhost:8080/"
    },
    "id": "DTWk890yQO7V",
    "outputId": "0cf09ada-fd19-4448-a468-b3116bdc4572"
   },
   "outputs": [
    {
     "name": "stderr",
     "output_type": "stream",
     "text": [
      "/usr/local/lib/python3.7/dist-packages/torch/utils/data/dataloader.py:477: UserWarning: This DataLoader will create 3 worker processes in total. Our suggested max number of worker in current system is 2, which is smaller than what this DataLoader is going to create. Please be aware that excessive worker creation might get DataLoader running slow or even freeze, lower the worker number to avoid potential slowness/freeze if necessary.\n",
      "  cpuset_checked))\n"
     ]
    }
   ],
   "source": [
    "#DataLoader\n",
    "train_data_loader = DataLoader(train,batch_size=16,num_workers=3,shuffle=True)\n",
    "test_data_loader = DataLoader(val,batch_size=16,num_workers=3,shuffle=True)"
   ]
  },
  {
   "cell_type": "code",
   "execution_count": null,
   "metadata": {
    "id": "QQ-nCMkYQS3H"
   },
   "outputs": [],
   "source": [
    "#Function to Display Image\n",
    "def imshow(inp,cmap=None):\n",
    "    inp = inp.numpy().transpose((1, 2, 0)) # Changing into HxWxC in numpy\n",
    "    print(inp.shape)\n",
    "    mean = np.array([0.4591, 0.4201, 0.3004])\n",
    "    std = np.array([0.2890, 0.2584, 0.2817])\n",
    "    inp = std * inp + mean\n",
    "    inp = np.clip(inp, 0, 1)\n",
    "    plt.imshow(inp,cmap)"
   ]
  },
  {
   "cell_type": "code",
   "execution_count": null,
   "metadata": {
    "colab": {
     "base_uri": "https://localhost:8080/",
     "height": 285
    },
    "id": "giJNQzwdQUjw",
    "outputId": "32db8531-5c8e-483c-8471-14b0d9dda68b"
   },
   "outputs": [
    {
     "name": "stdout",
     "output_type": "stream",
     "text": [
      "(120, 120, 3)\n"
     ]
    },
    {
     "data": {
      "image/png": "[encoded data removed]",
      "text/plain": [
       "<Figure size 432x288 with 1 Axes>"
      ]
     },
     "metadata": {
      "needs_background": "light",
      "tags": []
     },
     "output_type": "display_data"
    }
   ],
   "source": [
    "imshow(train[75][0])"
   ]
  },
  {
   "cell_type": "markdown",
   "metadata": {
    "id": "WjJ6YKWWQYuw"
   },
   "source": [
    "### **Custom CNN**"
   ]
  },
  {
   "cell_type": "code",
   "execution_count": 45,
   "metadata": {
    "id": "00KTExW6n0Wx"
   },
   "outputs": [],
   "source": [
    "class Net(nn.Module):\n",
    "    def __init__(self):\n",
    "        super(Net, self).__init__()\n",
    "        \n",
    "        self.layer1 = nn.Sequential(\n",
    "            nn.Conv2d(3, 32, kernel_size=5, stride=1, padding=2),\n",
    "            nn.BatchNorm2d(32),\n",
    "            nn.ReLU(),\n",
    "            nn.MaxPool2d(kernel_size=2, stride=2))\n",
    "        \n",
    "        self.layer2 = nn.Sequential(\n",
    "            nn.Conv2d(32, 64, kernel_size=5, stride=1, padding=2),\n",
    "            nn.BatchNorm2d(64),\n",
    "            nn.ReLU(),\n",
    "            nn.MaxPool2d(kernel_size=2, stride=2))\n",
    "        \n",
    "        self.layer3 = nn.Sequential(\n",
    "            nn.Conv2d(64, 128, kernel_size=5, stride=1, padding=2),\n",
    "            nn.BatchNorm2d(128),\n",
    "            nn.ReLU(),\n",
    "            nn.MaxPool2d(kernel_size=2, stride=2))\n",
    "        \n",
    "        self.layer4 = nn.Sequential(\n",
    "            nn.Conv2d(128, 256, kernel_size=5, stride=1, padding=2),\n",
    "            nn.BatchNorm2d(256),\n",
    "            nn.ReLU(),\n",
    "            nn.MaxPool2d(kernel_size=2, stride=2))\n",
    "    \n",
    "            \n",
    "        self.fc1 = nn.Linear(7*7*256, 128)\n",
    "        self.fc2 = nn.Linear(128, 5)   \n",
    "        \n",
    "    def forward(self, x):\n",
    "        out = self.layer1(x)\n",
    "        out = self.layer2(out)\n",
    "        out = self.layer3(out)\n",
    "        out = self.layer4(out)\n",
    "        out = out.reshape(out.size(0), -1)\n",
    "        out = self.fc1(out)\n",
    "        out = F.dropout(out, training=self.training)\n",
    "        out = self.fc2(out)\n",
    "        return F.log_softmax(out,dim=1)"
   ]
  },
  {
   "cell_type": "code",
   "execution_count": 46,
   "metadata": {
    "id": "hU3I23ayn4tH"
   },
   "outputs": [],
   "source": [
    "model = Net()\n",
    "if is_cuda:\n",
    "    model.cuda()"
   ]
  },
  {
   "cell_type": "code",
   "execution_count": 47,
   "metadata": {
    "id": "ivSMQN54n7bx"
   },
   "outputs": [],
   "source": [
    "# optimizer\n",
    "optimizer = torch.optim.Adam(model.parameters(), lr=0.001)"
   ]
  },
  {
   "cell_type": "code",
   "execution_count": 48,
   "metadata": {
    "id": "0WlF-sJYn9RI"
   },
   "outputs": [],
   "source": [
    "def fit(epoch,model,data_loader,phase='training',volatile=False):\n",
    "    if phase == 'training':\n",
    "        model.train()\n",
    "    if phase == 'validation':\n",
    "        model.eval()\n",
    "        volatile=True\n",
    "    running_loss = 0.0\n",
    "    running_correct = 0\n",
    "    for batch_idx , (data,target) in enumerate(data_loader):\n",
    "        if is_cuda:\n",
    "            data,target = data.cuda(),target.cuda()\n",
    "        data , target = Variable(data,volatile),Variable(target)\n",
    "        if phase == 'training':\n",
    "            optimizer.zero_grad()\n",
    "        output = model(data)\n",
    "        loss = F.nll_loss(output,target)\n",
    "        \n",
    "        running_loss += F.nll_loss(output,target,size_average=False).item()\n",
    "        preds = output.data.max(dim=1,keepdim=True)[1]\n",
    "        running_correct += preds.eq(target.data.view_as(preds)).cpu().sum()\n",
    "        if phase == 'training':\n",
    "            loss.backward()\n",
    "            optimizer.step()\n",
    "    \n",
    "    loss = running_loss/len(data_loader.dataset)\n",
    "    accuracy = 100. * running_correct/len(data_loader.dataset)\n",
    "    \n",
    "    print(f'{phase} loss is {loss:{5}.{2}} and {phase} accuracy is {running_correct}/{len(data_loader.dataset)}{accuracy:{10}.{4}}')\n",
    "    return loss,accuracy"
   ]
  },
  {
   "cell_type": "code",
   "execution_count": null,
   "metadata": {
    "colab": {
     "base_uri": "https://localhost:8080/"
    },
    "id": "qwbCZKkzn_hs",
    "outputId": "1eb8e268-4c45-4f5c-f273-c21410a5bd3b"
   },
   "outputs": [
    {
     "name": "stderr",
     "output_type": "stream",
     "text": [
      "/usr/local/lib/python3.7/dist-packages/torch/utils/data/dataloader.py:477: UserWarning: This DataLoader will create 3 worker processes in total. Our suggested max number of worker in current system is 2, which is smaller than what this DataLoader is going to create. Please be aware that excessive worker creation might get DataLoader running slow or even freeze, lower the worker number to avoid potential slowness/freeze if necessary.\n",
      "  cpuset_checked))\n",
      "/usr/local/lib/python3.7/dist-packages/torch/nn/_reduction.py:42: UserWarning: size_average and reduce args will be deprecated, please use reduction='sum' instead.\n",
      "  warnings.warn(warning.format(ret))\n"
     ]
    },
    {
     "name": "stdout",
     "output_type": "stream",
     "text": [
      "training loss is  0.26 and training accuracy is 2702/3000     90.07\n",
      "validation loss is   1.2 and validation accuracy is 945/1323     71.43\n",
      "training loss is  0.22 and training accuracy is 2764/3000     92.13\n",
      "validation loss is   1.6 and validation accuracy is 824/1323     62.28\n",
      "training loss is  0.21 and training accuracy is 2773/3000     92.43\n",
      "validation loss is   1.1 and validation accuracy is 925/1323     69.92\n",
      "training loss is  0.19 and training accuracy is 2810/3000     93.67\n",
      "validation loss is   1.2 and validation accuracy is 911/1323     68.86\n",
      "training loss is 0.098 and training accuracy is 2894/3000     96.47\n",
      "validation loss is   1.5 and validation accuracy is 927/1323     70.07\n",
      "training loss is  0.12 and training accuracy is 2892/3000      96.4\n",
      "validation loss is   1.5 and validation accuracy is 905/1323     68.41\n",
      "training loss is  0.11 and training accuracy is 2886/3000      96.2\n",
      "validation loss is   1.3 and validation accuracy is 940/1323     71.05\n",
      "training loss is 0.086 and training accuracy is 2922/3000      97.4\n",
      "validation loss is   1.3 and validation accuracy is 947/1323     71.58\n",
      "training loss is 0.071 and training accuracy is 2936/3000     97.87\n",
      "validation loss is   1.7 and validation accuracy is 880/1323     66.52\n",
      "training loss is 0.067 and training accuracy is 2940/3000      98.0\n",
      "validation loss is   1.5 and validation accuracy is 910/1323     68.78\n",
      "training loss is 0.072 and training accuracy is 2931/3000      97.7\n",
      "validation loss is   1.8 and validation accuracy is 906/1323     68.48\n"
     ]
    }
   ],
   "source": [
    "train_losses , train_accuracy = [],[]\n",
    "val_losses , val_accuracy = [],[]\n",
    "for epoch in range(1,20):\n",
    "    epoch_loss, epoch_accuracy = fit(epoch,model,train_data_loader,phase='training')\n",
    "    val_epoch_loss , val_epoch_accuracy = fit(epoch,model,test_data_loader,phase='validation')\n",
    "    train_losses.append(epoch_loss)\n",
    "    train_accuracy.append(epoch_accuracy)\n",
    "    val_losses.append(val_epoch_loss)\n",
    "    val_accuracy.append(val_epoch_accuracy)"
   ]
  },
  {
   "cell_type": "code",
   "execution_count": null,
   "metadata": {
    "id": "2LwCoFvwoBdl"
   },
   "outputs": [],
   "source": [
    "#Loss \n",
    "plt.plot(range(1,len(train_losses)+1),train_losses,'b',label = 'training loss')\n",
    "plt.plot(range(1,len(val_losses)+1),val_losses,'r',label = 'validation loss')\n",
    "plt.legend()"
   ]
  },
  {
   "cell_type": "code",
   "execution_count": null,
   "metadata": {
    "id": "AQEcyiIXoDhm"
   },
   "outputs": [],
   "source": [
    "#Accuracy\n",
    "plt.plot(range(1,len(train_accuracy)+1),train_accuracy,'b',label = 'train accuracy')\n",
    "plt.plot(range(1,len(val_accuracy)+1),val_accuracy,'r',label = 'val accuracy')\n",
    "plt.legend()"
   ]
  },
  {
   "cell_type": "markdown",
   "metadata": {
    "id": "5kIAh8g2oH3S"
   },
   "source": [
    "### **Changing the Learning Rate**"
   ]
  },
  {
   "cell_type": "code",
   "execution_count": 40,
   "metadata": {
    "id": "JDAKwosYoFQD"
   },
   "outputs": [],
   "source": [
    "model = Net()\n",
    "if is_cuda:\n",
    "    model.cuda()"
   ]
  },
  {
   "cell_type": "code",
   "execution_count": 41,
   "metadata": {
    "id": "2ON8oGrKoTTq"
   },
   "outputs": [],
   "source": [
    "# optimizer\n",
    "optimizer = torch.optim.Adam(model.parameters(), lr=0.01)"
   ]
  },
  {
   "cell_type": "code",
   "execution_count": 42,
   "metadata": {
    "colab": {
     "base_uri": "https://localhost:8080/"
    },
    "id": "4lOaqZ-UoU4r",
    "outputId": "b63d8fa8-67ef-442a-f1c1-035cd3685491"
   },
   "outputs": [
    {
     "name": "stderr",
     "output_type": "stream",
     "text": [
      "/usr/local/lib/python3.7/dist-packages/torch/utils/data/dataloader.py:477: UserWarning: This DataLoader will create 3 worker processes in total. Our suggested max number of worker in current system is 2, which is smaller than what this DataLoader is going to create. Please be aware that excessive worker creation might get DataLoader running slow or even freeze, lower the worker number to avoid potential slowness/freeze if necessary.\n",
      "  cpuset_checked))\n",
      "/usr/local/lib/python3.7/dist-packages/torch/nn/_reduction.py:42: UserWarning: size_average and reduce args will be deprecated, please use reduction='sum' instead.\n",
      "  warnings.warn(warning.format(ret))\n"
     ]
    },
    {
     "name": "stdout",
     "output_type": "stream",
     "text": [
      "training loss is 1.5e+01 and training accuracy is 1082/3000     36.07\n",
      "validation loss is   1.3 and validation accuracy is 646/1323     48.83\n",
      "training loss is   1.3 and training accuracy is 1420/3000     47.33\n",
      "validation loss is   1.2 and validation accuracy is 680/1323      51.4\n",
      "training loss is   1.1 and training accuracy is 1593/3000      53.1\n",
      "validation loss is   1.1 and validation accuracy is 716/1323     54.12\n",
      "training loss is   1.1 and training accuracy is 1690/3000     56.33\n",
      "validation loss is   1.2 and validation accuracy is 702/1323     53.06\n",
      "training loss is   1.0 and training accuracy is 1836/3000      61.2\n",
      "validation loss is   1.2 and validation accuracy is 750/1323     56.69\n",
      "training loss is  0.98 and training accuracy is 1831/3000     61.03\n",
      "validation loss is   1.1 and validation accuracy is 764/1323     57.75\n",
      "training loss is  0.93 and training accuracy is 1908/3000      63.6\n",
      "validation loss is   1.1 and validation accuracy is 733/1323      55.4\n",
      "training loss is   0.9 and training accuracy is 1974/3000      65.8\n",
      "validation loss is   1.1 and validation accuracy is 807/1323      61.0\n",
      "training loss is  0.88 and training accuracy is 2002/3000     66.73\n",
      "validation loss is   1.0 and validation accuracy is 805/1323     60.85\n",
      "training loss is  0.84 and training accuracy is 2016/3000      67.2\n",
      "validation loss is   1.1 and validation accuracy is 793/1323     59.94\n",
      "training loss is  0.83 and training accuracy is 2051/3000     68.37\n",
      "validation loss is   1.2 and validation accuracy is 774/1323      58.5\n",
      "training loss is  0.81 and training accuracy is 2061/3000      68.7\n",
      "validation loss is   1.0 and validation accuracy is 807/1323      61.0\n",
      "training loss is  0.74 and training accuracy is 2156/3000     71.87\n",
      "validation loss is   1.1 and validation accuracy is 768/1323     58.05\n",
      "training loss is  0.74 and training accuracy is 2150/3000     71.67\n",
      "validation loss is   1.1 and validation accuracy is 810/1323     61.22\n",
      "training loss is   0.7 and training accuracy is 2221/3000     74.03\n",
      "validation loss is   1.1 and validation accuracy is 756/1323     57.14\n",
      "training loss is  0.67 and training accuracy is 2279/3000     75.97\n",
      "validation loss is   1.1 and validation accuracy is 797/1323     60.24\n",
      "training loss is  0.65 and training accuracy is 2279/3000     75.97\n",
      "validation loss is   1.2 and validation accuracy is 827/1323     62.51\n",
      "training loss is  0.65 and training accuracy is 2270/3000     75.67\n",
      "validation loss is   1.1 and validation accuracy is 817/1323     61.75\n",
      "training loss is  0.59 and training accuracy is 2364/3000      78.8\n",
      "validation loss is   1.3 and validation accuracy is 809/1323     61.15\n"
     ]
    }
   ],
   "source": [
    "train_losses , train_accuracy = [],[]\n",
    "val_losses , val_accuracy = [],[]\n",
    "for epoch in range(1,20):\n",
    "    epoch_loss, epoch_accuracy = fit(epoch,model,train_data_loader,phase='training')\n",
    "    val_epoch_loss , val_epoch_accuracy = fit(epoch,model,test_data_loader,phase='validation')\n",
    "    train_losses.append(epoch_loss)\n",
    "    train_accuracy.append(epoch_accuracy)\n",
    "    val_losses.append(val_epoch_loss)\n",
    "    val_accuracy.append(val_epoch_accuracy)"
   ]
  },
  {
   "cell_type": "code",
   "execution_count": 43,
   "metadata": {
    "colab": {
     "base_uri": "https://localhost:8080/",
     "height": 282
    },
    "id": "CmL8bLZioWfq",
    "outputId": "f92bc58c-505e-4d3c-c794-6104d1b73791"
   },
   "outputs": [
    {
     "data": {
      "text/plain": [
       "<matplotlib.legend.Legend at 0x7fcaab55d350>"
      ]
     },
     "execution_count": 43,
     "metadata": {
      "tags": []
     },
     "output_type": "execute_result"
    },
    {
     "data": {
      "image/png": "[encoded data removed]",
      "text/plain": [
       "<Figure size 432x288 with 1 Axes>"
      ]
     },
     "metadata": {
      "needs_background": "light",
      "tags": []
     },
     "output_type": "display_data"
    }
   ],
   "source": [
    "#Loss \n",
    "plt.plot(range(1,len(train_losses)+1),train_losses,'b',label = 'training loss')\n",
    "plt.plot(range(1,len(val_losses)+1),val_losses,'r',label = 'validation loss')\n",
    "plt.legend()"
   ]
  },
  {
   "cell_type": "code",
   "execution_count": 44,
   "metadata": {
    "colab": {
     "base_uri": "https://localhost:8080/",
     "height": 282
    },
    "id": "vzHiLMXioYTr",
    "outputId": "56dc8bd4-845f-4978-d11c-1a85160bb647"
   },
   "outputs": [
    {
     "data": {
      "text/plain": [
       "<matplotlib.legend.Legend at 0x7fcaaae33750>"
      ]
     },
     "execution_count": 44,
     "metadata": {
      "tags": []
     },
     "output_type": "execute_result"
    },
    {
     "data": {
      "image/png": "[encoded data removed]",
      "text/plain": [
       "<Figure size 432x288 with 1 Axes>"
      ]
     },
     "metadata": {
      "needs_background": "light",
      "tags": []
     },
     "output_type": "display_data"
    }
   ],
   "source": [
    "#Accuracy\n",
    "plt.plot(range(1,len(train_accuracy)+1),train_accuracy,'b',label = 'train accuracy')\n",
    "plt.plot(range(1,len(val_accuracy)+1),val_accuracy,'r',label = 'val accuracy')\n",
    "plt.legend()"
   ]
  }
 ],
 "metadata": {
  "colab": {
   "collapsed_sections": [],
   "name": "Flower Classifier.ipynb",
   "provenance": []
  },
  "kernelspec": {
   "display_name": "Python 3",
   "language": "python",
   "name": "python3"
  },
  "language_info": {
   "codemirror_mode": {
    "name": "ipython",
    "version": 3
   },
   "file_extension": ".py",
   "mimetype": "text/x-python",
   "name": "python",
   "nbconvert_exporter": "python",
   "pygments_lexer": "ipython3",
   "version": "3.8.5"
  }
 },
 "nbformat": 4,
 "nbformat_minor": 1
}
