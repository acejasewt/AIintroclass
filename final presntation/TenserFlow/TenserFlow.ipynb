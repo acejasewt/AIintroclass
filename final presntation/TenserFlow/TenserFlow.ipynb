{
 "cells": [
  {
   "cell_type": "code",
   "execution_count": 1,
   "metadata": {
    "id": "wENFKwLA77Mk"
   },
   "outputs": [],
   "source": [
    "import os\n",
    "import tensorflow as tf\n",
    "from tensorflow import keras\n",
    "import numpy as np\n",
    "import matplotlib.pyplot as plt"
   ]
  },
  {
   "cell_type": "code",
   "execution_count": 2,
   "metadata": {
    "colab": {
     "base_uri": "https://localhost:8080/"
    },
    "id": "6PUz-V5977Mn",
    "outputId": "40972cce-3059-4195-e7a8-e62b722a13ff"
   },
   "outputs": [
    {
     "name": "stdout",
     "output_type": "stream",
     "text": [
      "['daisy', 'dandelion', 'roses', 'sunflowers', 'tulips']\n"
     ]
    }
   ],
   "source": [
    "data_dir = 'flowers'\n",
    "class_names = [name for name in os.listdir(data_dir)]\n",
    "print(class_names)"
   ]
  },
  {
   "cell_type": "code",
   "execution_count": 175,
   "metadata": {
    "id": "12gfvK3pEOVQ"
   },
   "outputs": [],
   "source": [
    "image_height = 120\n",
    "image_width = 120\n",
    "\n",
    "batch_size = 32"
   ]
  },
  {
   "cell_type": "code",
   "execution_count": 176,
   "metadata": {
    "id": "iSab9JFAEg81"
   },
   "outputs": [],
   "source": [
    "def get_label(path):\n",
    "    parts = tf.strings.split(path, os.path.sep)\n",
    "    one_hot = parts[-2] == class_names\n",
    "    return tf.argmax(one_hot)"
   ]
  },
  {
   "cell_type": "code",
   "execution_count": 177,
   "metadata": {
    "id": "hov4Pi0iG3_l"
   },
   "outputs": [],
   "source": [
    "def decode_image(image):\n",
    "    image = tf.io.decode_jpeg(image, channels=3)  #channels = 1 轉成灰階\n",
    "    return tf.image.resize(image, [image_height, image_width])"
   ]
  },
  {
   "cell_type": "code",
   "execution_count": 178,
   "metadata": {
    "id": "B9vecqoHG5fp"
   },
   "outputs": [],
   "source": [
    "def process_path(path):\n",
    "    label = get_label(path)\n",
    "    image = tf.io.read_file(path)\n",
    "    image = decode_image(image)\n",
    "    return image, label"
   ]
  },
  {
   "cell_type": "code",
   "execution_count": 199,
   "metadata": {
    "id": "KuZ2hIZeG_R6"
   },
   "outputs": [],
   "source": [
    "autotune = tf.data.experimental.AUTOTUNE #自動選擇最優線路\n",
    "\n",
    "dataset = tf.data.Dataset.list_files(f'{data_dir}/*/*.jpg', shuffle=True)\n",
    "dataset = dataset.map(process_path, num_parallel_calls=autotune)\n",
    "\n",
    "train_size = int(len(dataset) * 0.9)\n",
    "train_dataset = dataset.take(train_size)\n",
    "test_dataset = dataset.skip(train_size)\n",
    "\n",
    "val_size = int(len(train_dataset) * 0.2)\n",
    "val_dataset = train_dataset.take(val_size)\n",
    "train_dataset = train_dataset.skip(val_size)"
   ]
  },
  {
   "cell_type": "code",
   "execution_count": 180,
   "metadata": {
    "id": "1_vnEVEiHAT4"
   },
   "outputs": [],
   "source": [
    "def configure_dataset(ds):\n",
    "    ds = ds.shuffle(1000)\n",
    "    ds = ds.batch(batch_size)\n",
    "    ds = ds.cache()\n",
    "    ds = ds.prefetch(autotune)\n",
    "    return ds"
   ]
  },
  {
   "cell_type": "code",
   "execution_count": 200,
   "metadata": {
    "id": "2aYgiNz2HGAy"
   },
   "outputs": [],
   "source": [
    "train_dataset = configure_dataset(train_dataset)\n",
    "val_dataset = configure_dataset(val_dataset)\n",
    "test_dataset = configure_dataset(test_dataset)"
   ]
  },
  {
   "cell_type": "code",
   "execution_count": 201,
   "metadata": {
    "colab": {
     "base_uri": "https://localhost:8080/"
    },
    "id": "LKnVlBiUHJNr",
    "outputId": "34fd973c-a598-4e8f-cfaa-3328d414d33e"
   },
   "outputs": [
    {
     "name": "stdout",
     "output_type": "stream",
     "text": [
      "Model: \"sequential_15\"\n",
      "_________________________________________________________________\n",
      "Layer (type)                 Output Shape              Param #   \n",
      "=================================================================\n",
      "rescaling_15 (Rescaling)     (None, 120, 120, 3)       0         \n",
      "_________________________________________________________________\n",
      "conv2d_45 (Conv2D)           (None, 118, 118, 32)      896       \n",
      "_________________________________________________________________\n",
      "max_pooling2d_45 (MaxPooling (None, 59, 59, 32)        0         \n",
      "_________________________________________________________________\n",
      "conv2d_46 (Conv2D)           (None, 57, 57, 64)        18496     \n",
      "_________________________________________________________________\n",
      "max_pooling2d_46 (MaxPooling (None, 28, 28, 64)        0         \n",
      "_________________________________________________________________\n",
      "conv2d_47 (Conv2D)           (None, 26, 26, 128)       73856     \n",
      "_________________________________________________________________\n",
      "max_pooling2d_47 (MaxPooling (None, 13, 13, 128)       0         \n",
      "_________________________________________________________________\n",
      "flatten_15 (Flatten)         (None, 21632)             0         \n",
      "_________________________________________________________________\n",
      "dropout_45 (Dropout)         (None, 21632)             0         \n",
      "_________________________________________________________________\n",
      "dense_45 (Dense)             (None, 64)                1384512   \n",
      "_________________________________________________________________\n",
      "dropout_46 (Dropout)         (None, 64)                0         \n",
      "_________________________________________________________________\n",
      "dense_46 (Dense)             (None, 128)               8320      \n",
      "_________________________________________________________________\n",
      "dropout_47 (Dropout)         (None, 128)               0         \n",
      "_________________________________________________________________\n",
      "dense_47 (Dense)             (None, 5)                 645       \n",
      "=================================================================\n",
      "Total params: 1,486,725\n",
      "Trainable params: 1,486,725\n",
      "Non-trainable params: 0\n",
      "_________________________________________________________________\n"
     ]
    }
   ],
   "source": [
    "model = keras.Sequential([\n",
    "    keras.layers.InputLayer(input_shape=(image_width, image_height, 3)),  #如果更改為灰階圖片channel =1 ，input_shape也要改為1\n",
    "#     keras.layers.experimental.preprocessing.RandomFlip(),                #翻轉horizontal_and_vertical\n",
    "#     keras.layers.experimental.preprocessing.RandomRotation(0.1),       #依0.2比例旋轉\n",
    "    keras.layers.experimental.preprocessing.Rescaling(1./255),\n",
    "    keras.layers.Conv2D(32, 3, activation='relu'),\n",
    "    keras.layers.MaxPool2D(),\n",
    "    keras.layers.Conv2D(64, 3, activation='relu'),\n",
    "    keras.layers.MaxPool2D(),\n",
    "    keras.layers.Conv2D(128, 3, activation='relu'),\n",
    "    keras.layers.MaxPool2D(),\n",
    "    keras.layers.Flatten(),\n",
    "    keras.layers.Dropout(0.3),\n",
    "    keras.layers.Dense(64, activation='relu'),\n",
    "    keras.layers.Dropout(0.3),\n",
    "    keras.layers.Dense(128, activation='relu'),\n",
    "    keras.layers.Dropout(0.3),\n",
    "    keras.layers.Dense(len(class_names), activation='softmax')\n",
    "])\n",
    "\n",
    "model.summary()"
   ]
  },
  {
   "cell_type": "markdown",
   "metadata": {
    "id": "mT5CkquHNUEu"
   },
   "source": []
  },
  {
   "cell_type": "code",
   "execution_count": 202,
   "metadata": {
    "id": "9C-G7JoNHM1x"
   },
   "outputs": [],
   "source": [
    "model.compile(optimizer='adam',\n",
    "             loss='sparse_categorical_crossentropy',\n",
    "             metrics=['accuracy'])"
   ]
  },
  {
   "cell_type": "code",
   "execution_count": 203,
   "metadata": {
    "colab": {
     "base_uri": "https://localhost:8080/"
    },
    "id": "vBuQjXVtHP5q",
    "outputId": "aafc1cff-8357-40df-cda1-e4e9536e10d9"
   },
   "outputs": [
    {
     "name": "stdout",
     "output_type": "stream",
     "text": [
      "Epoch 1/30\n",
      "83/83 [==============================] - 63s 453ms/step - loss: 1.5463 - accuracy: 0.2918 - val_loss: 1.2250 - val_accuracy: 0.4712\n",
      "Epoch 2/30\n",
      "83/83 [==============================] - 32s 385ms/step - loss: 1.2534 - accuracy: 0.4660 - val_loss: 1.0687 - val_accuracy: 0.5576\n",
      "Epoch 3/30\n",
      "83/83 [==============================] - 32s 385ms/step - loss: 1.1281 - accuracy: 0.5447 - val_loss: 0.9504 - val_accuracy: 0.6348\n",
      "Epoch 4/30\n",
      "83/83 [==============================] - 32s 385ms/step - loss: 0.9982 - accuracy: 0.5931 - val_loss: 0.8240 - val_accuracy: 0.7030\n",
      "Epoch 5/30\n",
      "83/83 [==============================] - 33s 399ms/step - loss: 0.8825 - accuracy: 0.6522 - val_loss: 0.7721 - val_accuracy: 0.7045\n",
      "Epoch 6/30\n",
      "83/83 [==============================] - 33s 399ms/step - loss: 0.7580 - accuracy: 0.7091 - val_loss: 0.6525 - val_accuracy: 0.7576\n",
      "Epoch 7/30\n",
      "83/83 [==============================] - 33s 397ms/step - loss: 0.6690 - accuracy: 0.7483 - val_loss: 0.7046 - val_accuracy: 0.7394\n",
      "Epoch 8/30\n",
      "83/83 [==============================] - 33s 399ms/step - loss: 0.5604 - accuracy: 0.8045 - val_loss: 0.6695 - val_accuracy: 0.7652\n",
      "Epoch 9/30\n",
      "83/83 [==============================] - 33s 399ms/step - loss: 0.4660 - accuracy: 0.8288 - val_loss: 0.5958 - val_accuracy: 0.8182\n",
      "Epoch 10/30\n",
      "83/83 [==============================] - 32s 385ms/step - loss: 0.4691 - accuracy: 0.8248 - val_loss: 0.5248 - val_accuracy: 0.8485\n",
      "Epoch 11/30\n",
      "83/83 [==============================] - 32s 391ms/step - loss: 0.3951 - accuracy: 0.8639 - val_loss: 0.5498 - val_accuracy: 0.8333\n",
      "Epoch 12/30\n",
      "83/83 [==============================] - 32s 391ms/step - loss: 0.3286 - accuracy: 0.8838 - val_loss: 0.5480 - val_accuracy: 0.8485\n",
      "Epoch 13/30\n",
      "83/83 [==============================] - 33s 395ms/step - loss: 0.3136 - accuracy: 0.8987 - val_loss: 0.5119 - val_accuracy: 0.8758\n",
      "Epoch 14/30\n",
      "83/83 [==============================] - 34s 405ms/step - loss: 0.2264 - accuracy: 0.9249 - val_loss: 0.4670 - val_accuracy: 0.8742\n",
      "Epoch 15/30\n",
      "83/83 [==============================] - 32s 386ms/step - loss: 0.1998 - accuracy: 0.9253 - val_loss: 0.5206 - val_accuracy: 0.8712\n",
      "Epoch 16/30\n",
      "83/83 [==============================] - 32s 382ms/step - loss: 0.1841 - accuracy: 0.9368 - val_loss: 0.5052 - val_accuracy: 0.8955\n",
      "Epoch 17/30\n",
      "83/83 [==============================] - 33s 397ms/step - loss: 0.1585 - accuracy: 0.9532 - val_loss: 0.5195 - val_accuracy: 0.8864\n",
      "Epoch 18/30\n",
      "83/83 [==============================] - 33s 395ms/step - loss: 0.1628 - accuracy: 0.9447 - val_loss: 0.5029 - val_accuracy: 0.9000\n",
      "Epoch 19/30\n",
      "83/83 [==============================] - 33s 393ms/step - loss: 0.1236 - accuracy: 0.9576 - val_loss: 0.5399 - val_accuracy: 0.8985\n",
      "Epoch 20/30\n",
      "83/83 [==============================] - 32s 389ms/step - loss: 0.1382 - accuracy: 0.9549 - val_loss: 0.6038 - val_accuracy: 0.9015\n",
      "Epoch 21/30\n",
      "83/83 [==============================] - 33s 399ms/step - loss: 0.1195 - accuracy: 0.9542 - val_loss: 0.5341 - val_accuracy: 0.9106\n",
      "Epoch 22/30\n",
      "83/83 [==============================] - 33s 395ms/step - loss: 0.1274 - accuracy: 0.9589 - val_loss: 0.5364 - val_accuracy: 0.9091\n",
      "Epoch 23/30\n",
      "83/83 [==============================] - 34s 414ms/step - loss: 0.0918 - accuracy: 0.9714 - val_loss: 0.6235 - val_accuracy: 0.8939\n",
      "Epoch 24/30\n",
      "83/83 [==============================] - 33s 395ms/step - loss: 0.1142 - accuracy: 0.9657 - val_loss: 0.6280 - val_accuracy: 0.9106\n",
      "Epoch 25/30\n",
      "83/83 [==============================] - 32s 389ms/step - loss: 0.0818 - accuracy: 0.9768 - val_loss: 0.6558 - val_accuracy: 0.9015\n",
      "Epoch 26/30\n",
      "83/83 [==============================] - 33s 402ms/step - loss: 0.1116 - accuracy: 0.9637 - val_loss: 0.6907 - val_accuracy: 0.8879\n",
      "Epoch 27/30\n",
      "83/83 [==============================] - 34s 408ms/step - loss: 0.1373 - accuracy: 0.9564 - val_loss: 0.7231 - val_accuracy: 0.8864\n",
      "Epoch 28/30\n",
      "83/83 [==============================] - 33s 400ms/step - loss: 0.1179 - accuracy: 0.9657 - val_loss: 0.9306 - val_accuracy: 0.8424\n",
      "Epoch 29/30\n",
      "83/83 [==============================] - 33s 400ms/step - loss: 0.1398 - accuracy: 0.9580 - val_loss: 0.5662 - val_accuracy: 0.9106\n",
      "Epoch 30/30\n",
      "83/83 [==============================] - 33s 400ms/step - loss: 0.0821 - accuracy: 0.9699 - val_loss: 0.6072 - val_accuracy: 0.9121\n"
     ]
    }
   ],
   "source": [
    "hist = model.fit(train_dataset,\n",
    "                 epochs=30,\n",
    "                 validation_data=val_dataset)"
   ]
  },
  {
   "cell_type": "code",
   "execution_count": 204,
   "metadata": {
    "colab": {
     "base_uri": "https://localhost:8080/",
     "height": 545
    },
    "id": "INPH7R3AHdWX",
    "outputId": "fcc746bb-32e3-4a6b-b887-00850f687701"
   },
   "outputs": [
    {
     "data": {
      "image/png": "[encoded data removed]",
      "text/plain": [
       "<Figure size 432x288 with 1 Axes>"
      ]
     },
     "metadata": {
      "needs_background": "light"
     },
     "output_type": "display_data"
    },
    {
     "data": {
      "image/png": "[encoded data removed]",
      "text/plain": [
       "<Figure size 432x288 with 1 Axes>"
      ]
     },
     "metadata": {
      "needs_background": "light"
     },
     "output_type": "display_data"
    }
   ],
   "source": [
    "acc = hist.history['accuracy']\n",
    "val_acc = hist.history['val_accuracy']\n",
    "loss = hist.history['loss']\n",
    "val_loss = hist.history['val_loss']\n",
    "epochs = range(1, len(acc) + 1)\n",
    "\n",
    "plt.plot(epochs, acc, 'r', label='Training accuracy')\n",
    "plt.plot(epochs, val_acc, 'b', label='Validation accuracy')\n",
    "plt.title('Traing and Validaion accuracy')\n",
    "plt.legend()\n",
    "plt.savefig('RGB3 acc.jpeg')\n",
    "plt.figure()\n",
    "\n",
    "plt.plot(epochs, loss, 'r', label='Training loss')\n",
    "plt.plot(epochs, val_loss, 'b', label='Validation loss')\n",
    "plt.title('Traing and Validaion loss')\n",
    "plt.legend()\n",
    "plt.savefig('RGB3 loss.jpeg')\n",
    "\n",
    "plt.show()"
   ]
  },
  {
   "cell_type": "code",
   "execution_count": 206,
   "metadata": {
    "colab": {
     "base_uri": "https://localhost:8080/"
    },
    "id": "HvCq5YWjHhFI",
    "outputId": "b28adb18-5511-41fc-9e05-ba9d01c24e1a"
   },
   "outputs": [
    {
     "name": "stdout",
     "output_type": "stream",
     "text": [
      "True label: daisy\n",
      "This image most likely belongs to daisy with a 100.00 percent confidence.\n"
     ]
    }
   ],
   "source": [
    "predictions = model.predict(test_dataset)\n",
    "\n",
    "index = 19\n",
    "\n",
    "for img, label in test_dataset.take(1):\n",
    "    print('True label:', class_names[label[index]])\n",
    "    img = keras.preprocessing.image.array_to_img(img[index])\n",
    "    \n",
    "\n",
    "print(\n",
    "    \"This image most likely belongs to {} with a {:.2f} percent confidence.\"\n",
    "    .format(class_names[np.argmax(predictions[index])], 100 * np.max(predictions[index]))\n",
    ")"
   ]
  },
  {
   "cell_type": "code",
   "execution_count": null,
   "metadata": {},
   "outputs": [],
   "source": []
  }
 ],
 "metadata": {
  "colab": {
   "collapsed_sections": [],
   "name": "Z06O.ipynb",
   "provenance": []
  },
  "kernelspec": {
   "display_name": "Python 3",
   "language": "python",
   "name": "python3"
  },
  "language_info": {
   "codemirror_mode": {
    "name": "ipython",
    "version": 3
   },
   "file_extension": ".py",
   "mimetype": "text/x-python",
   "name": "python",
   "nbconvert_exporter": "python",
   "pygments_lexer": "ipython3",
   "version": "3.8.5"
  }
 },
 "nbformat": 4,
 "nbformat_minor": 1
}
