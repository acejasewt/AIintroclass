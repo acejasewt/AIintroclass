{
  "nbformat": 4,
  "nbformat_minor": 0,
  "metadata": {
    "colab": {
      "name": "Flower_Classifier2.ipynb",
      "provenance": [],
      "collapsed_sections": []
    },
    "kernelspec": {
      "display_name": "Python 3",
      "language": "python",
      "name": "python3"
    },
    "language_info": {
      "codemirror_mode": {
        "name": "ipython",
        "version": 3
      },
      "file_extension": ".py",
      "mimetype": "text/x-python",
      "name": "python",
      "nbconvert_exporter": "python",
      "pygments_lexer": "ipython3",
      "version": "3.8.5"
    }
  },
  "cells": [
    {
      "cell_type": "markdown",
      "metadata": {
        "id": "XiDaKYiAQ51A"
      },
      "source": [
        "### **Flower Classification**"
      ]
    },
    {
      "cell_type": "code",
      "metadata": {
        "id": "KKK_Y6VsPy4u"
      },
      "source": [
        "# Loading Libraires\n",
        "from PIL import Image\n",
        "import torch\n",
        "import torchvision\n",
        "import torchvision.transforms as transforms\n",
        "import torch.nn as nn\n",
        "import torch.nn.functional as F\n",
        "import numpy as np\n",
        "import matplotlib.pyplot as plt\n",
        "from torchvision import transforms\n",
        "from torch.autograd import Variable\n",
        "from torchvision import models\n",
        "from torchvision.datasets import ImageFolder\n",
        "from torch.utils.data import Dataset,DataLoader"
      ],
      "execution_count": 1,
      "outputs": []
    },
    {
      "cell_type": "code",
      "metadata": {
        "id": "reG-XOsnnLDf"
      },
      "source": [
        "is_cuda = False\n",
        "if torch.cuda.is_available():\n",
        "    is_cuda = True"
      ],
      "execution_count": 2,
      "outputs": []
    },
    {
      "cell_type": "code",
      "metadata": {
        "colab": {
          "base_uri": "https://localhost:8080/"
        },
        "id": "rBic2X6hQApw",
        "outputId": "caf659dd-f608-4274-bf76-fd1a8db18be3"
      },
      "source": [
        "                         \n",
        "simple_transform = transforms.Compose([transforms.Resize((120,120))\n",
        "                                       ,transforms.ToTensor(),\n",
        "                                       transforms.Grayscale(num_output_channels=1)\n",
        "                                      ])\n",
        "dataset = ImageFolder('/content/drive/MyDrive/flower_photos',simple_transform)\n",
        "print(dataset)"
      ],
      "execution_count": 12,
      "outputs": [
        {
          "output_type": "stream",
          "text": [
            "Dataset ImageFolder\n",
            "    Number of datapoints: 3670\n",
            "    Root location: /content/drive/MyDrive/flower_photos\n",
            "    StandardTransform\n",
            "Transform: Compose(\n",
            "               Resize(size=(120, 120), interpolation=bilinear)\n",
            "               ToTensor()\n",
            "               Grayscale(num_output_channels=1)\n",
            "           )\n"
          ],
          "name": "stdout"
        }
      ]
    },
    {
      "cell_type": "code",
      "metadata": {
        "colab": {
          "base_uri": "https://localhost:8080/"
        },
        "id": "HguqwPtJQCfJ",
        "outputId": "3c752471-a0a5-49f5-eae6-0fee736a8693"
      },
      "source": [
        "#Loader\n",
        "data_loader = DataLoader(dataset,batch_size=16,num_workers=3,shuffle=True)"
      ],
      "execution_count": 13,
      "outputs": [
        {
          "output_type": "stream",
          "text": [
            "/usr/local/lib/python3.7/dist-packages/torch/utils/data/dataloader.py:477: UserWarning: This DataLoader will create 3 worker processes in total. Our suggested max number of worker in current system is 2, which is smaller than what this DataLoader is going to create. Please be aware that excessive worker creation might get DataLoader running slow or even freeze, lower the worker number to avoid potential slowness/freeze if necessary.\n",
            "  cpuset_checked))\n"
          ],
          "name": "stderr"
        }
      ]
    },
    {
      "cell_type": "code",
      "metadata": {
        "colab": {
          "base_uri": "https://localhost:8080/"
        },
        "id": "Fmm2LjXzngXd",
        "outputId": "67b69a72-adcc-469d-dd9e-b12bcd8dc304"
      },
      "source": [
        "from google.colab import drive\n",
        "drive.mount('/content/drive')"
      ],
      "execution_count": 5,
      "outputs": [
        {
          "output_type": "stream",
          "text": [
            "Mounted at /content/drive\n"
          ],
          "name": "stdout"
        }
      ]
    },
    {
      "cell_type": "code",
      "metadata": {
        "id": "_GFv2W_0QFfM"
      },
      "source": [
        "#Function to get Mean and std of dataset\n",
        "def get_mean_std(loader):\n",
        "    #VAR[X] = E[X**2] - E[X] **2\n",
        "    channels_sum, channels_squared_sum, num_batches = 0, 0, 0\n",
        "    \n",
        "    for data, _ in loader:\n",
        "        channels_sum +=torch.mean(data, dim=[0,2,3]) #BxCxHxW \n",
        "        channels_squared_sum+=torch.mean(data**2, dim=[0,2,3])\n",
        "        num_batches +=1\n",
        "        \n",
        "    mean = channels_sum/num_batches\n",
        "    std = (channels_squared_sum/num_batches -mean**2)**0.5\n",
        "    \n",
        "    return mean, std"
      ],
      "execution_count": 14,
      "outputs": []
    },
    {
      "cell_type": "code",
      "metadata": {
        "colab": {
          "base_uri": "https://localhost:8080/"
        },
        "id": "yB3SpoChQH29",
        "outputId": "1770e3b1-4cf7-45e7-ec14-d966dee5746c"
      },
      "source": [
        "mean, std = get_mean_std(data_loader)\n",
        "print(mean)\n",
        "print(std)"
      ],
      "execution_count": 15,
      "outputs": [
        {
          "output_type": "stream",
          "text": [
            "/usr/local/lib/python3.7/dist-packages/torch/utils/data/dataloader.py:477: UserWarning: This DataLoader will create 3 worker processes in total. Our suggested max number of worker in current system is 2, which is smaller than what this DataLoader is going to create. Please be aware that excessive worker creation might get DataLoader running slow or even freeze, lower the worker number to avoid potential slowness/freeze if necessary.\n",
            "  cpuset_checked))\n"
          ],
          "name": "stderr"
        },
        {
          "output_type": "stream",
          "text": [
            "tensor([0.4238])\n",
            "tensor([0.2527])\n"
          ],
          "name": "stdout"
        }
      ]
    },
    {
      "cell_type": "code",
      "metadata": {
        "id": "g3-5rwZhQMlX"
      },
      "source": [
        "#Spliting the dataset into training and testing\n",
        "train, val = torch.utils.data.random_split(dataset, [2600,1070])"
      ],
      "execution_count": 16,
      "outputs": []
    },
    {
      "cell_type": "code",
      "metadata": {
        "colab": {
          "base_uri": "https://localhost:8080/"
        },
        "id": "DTWk890yQO7V",
        "outputId": "d4e0c4e2-b4b4-4de4-dfa9-e8a6d8fdc93f"
      },
      "source": [
        "#DataLoader\n",
        "train_data_loader = DataLoader(train,batch_size=16,num_workers=3,shuffle=True)\n",
        "test_data_loader = DataLoader(val,batch_size=16,num_workers=3,shuffle=True)"
      ],
      "execution_count": 17,
      "outputs": [
        {
          "output_type": "stream",
          "text": [
            "/usr/local/lib/python3.7/dist-packages/torch/utils/data/dataloader.py:477: UserWarning: This DataLoader will create 3 worker processes in total. Our suggested max number of worker in current system is 2, which is smaller than what this DataLoader is going to create. Please be aware that excessive worker creation might get DataLoader running slow or even freeze, lower the worker number to avoid potential slowness/freeze if necessary.\n",
            "  cpuset_checked))\n"
          ],
          "name": "stderr"
        }
      ]
    },
    {
      "cell_type": "code",
      "metadata": {
        "colab": {
          "base_uri": "https://localhost:8080/"
        },
        "id": "giJNQzwdQUjw",
        "outputId": "d1ae3ab9-6c46-4793-b6cb-fd9fe8007f8f"
      },
      "source": [
        "train[75][0]"
      ],
      "execution_count": 18,
      "outputs": [
        {
          "output_type": "execute_result",
          "data": {
            "text/plain": [
              "tensor([[[0.3902, 0.3907, 0.3925,  ..., 0.4074, 0.4085, 0.4051],\n",
              "         [0.3937, 0.3941, 0.3937,  ..., 0.4113, 0.4108, 0.4074],\n",
              "         [0.3976, 0.3976, 0.3965,  ..., 0.4113, 0.4113, 0.4113],\n",
              "         ...,\n",
              "         [0.1786, 0.1650, 0.1192,  ..., 0.2330, 0.2077, 0.2960],\n",
              "         [0.2317, 0.1816, 0.1830,  ..., 0.1713, 0.1494, 0.2146],\n",
              "         [0.1277, 0.1407, 0.1592,  ..., 0.1493, 0.1089, 0.1574]]])"
            ]
          },
          "metadata": {
            "tags": []
          },
          "execution_count": 18
        }
      ]
    },
    {
      "cell_type": "markdown",
      "metadata": {
        "id": "WjJ6YKWWQYuw"
      },
      "source": [
        "### **Custom CNN**"
      ]
    },
    {
      "cell_type": "code",
      "metadata": {
        "id": "00KTExW6n0Wx"
      },
      "source": [
        "class Net(nn.Module):\n",
        "    def __init__(self):\n",
        "        super(Net, self).__init__()\n",
        "        \n",
        "        self.layer1 = nn.Sequential(\n",
        "            nn.Conv2d(1, 32, kernel_size=5, stride=1, padding=2),\n",
        "            nn.BatchNorm2d(32),\n",
        "            nn.ReLU(),\n",
        "            nn.MaxPool2d(kernel_size=2, stride=2))\n",
        "        \n",
        "        self.layer2 = nn.Sequential(\n",
        "            nn.Conv2d(32, 64, kernel_size=5, stride=1, padding=2),\n",
        "            nn.BatchNorm2d(64),\n",
        "            nn.ReLU(),\n",
        "            nn.MaxPool2d(kernel_size=2, stride=2))\n",
        "        \n",
        "        self.layer3 = nn.Sequential(\n",
        "            nn.Conv2d(64, 128, kernel_size=5, stride=1, padding=2),\n",
        "            nn.BatchNorm2d(128),\n",
        "            nn.ReLU(),\n",
        "            nn.MaxPool2d(kernel_size=2, stride=2))\n",
        "        \n",
        "        self.layer4 = nn.Sequential(\n",
        "            nn.Conv2d(128, 256, kernel_size=5, stride=1, padding=2),\n",
        "            nn.BatchNorm2d(256),\n",
        "            nn.ReLU(),\n",
        "            nn.MaxPool2d(kernel_size=2, stride=2))\n",
        "    \n",
        "            \n",
        "        self.fc1 = nn.Linear(7*7*256, 128)\n",
        "        self.fc2 = nn.Linear(128, 5)   \n",
        "        \n",
        "    def forward(self, x):\n",
        "        out = self.layer1(x)\n",
        "        out = self.layer2(out)\n",
        "        out = self.layer3(out)\n",
        "        out = self.layer4(out)\n",
        "        out = out.reshape(out.size(0), -1)\n",
        "        out = self.fc1(out)\n",
        "        out = F.dropout(out, training=self.training)\n",
        "        out = self.fc2(out)\n",
        "        return F.log_softmax(out,dim=1)"
      ],
      "execution_count": 43,
      "outputs": []
    },
    {
      "cell_type": "code",
      "metadata": {
        "id": "hU3I23ayn4tH"
      },
      "source": [
        "model = Net()\n",
        "if is_cuda:\n",
        "    model.cuda()"
      ],
      "execution_count": 44,
      "outputs": []
    },
    {
      "cell_type": "code",
      "metadata": {
        "id": "ivSMQN54n7bx"
      },
      "source": [
        "# optimizer\n",
        "optimizer = torch.optim.Adam(model.parameters(), lr=0.001)"
      ],
      "execution_count": 45,
      "outputs": []
    },
    {
      "cell_type": "code",
      "metadata": {
        "id": "0WlF-sJYn9RI"
      },
      "source": [
        "def fit(epoch,model,data_loader,phase='training',volatile=False):\n",
        "    if phase == 'training':\n",
        "        model.train()\n",
        "    if phase == 'validation':\n",
        "        model.eval()\n",
        "        volatile=True\n",
        "    running_loss = 0.0\n",
        "    running_correct = 0\n",
        "    for batch_idx , (data,target) in enumerate(data_loader):\n",
        "        if is_cuda:\n",
        "            data,target = data.cuda(),target.cuda()\n",
        "        data , target = Variable(data,volatile),Variable(target)\n",
        "        if phase == 'training':\n",
        "            optimizer.zero_grad()\n",
        "        output = model(data)\n",
        "        loss = F.nll_loss(output,target)\n",
        "        \n",
        "        running_loss += F.nll_loss(output,target,size_average=False).item()\n",
        "        preds = output.data.max(dim=1,keepdim=True)[1]\n",
        "        running_correct += preds.eq(target.data.view_as(preds)).cpu().sum()\n",
        "        if phase == 'training':\n",
        "            loss.backward()\n",
        "            optimizer.step()\n",
        "    \n",
        "    loss = running_loss/len(data_loader.dataset)\n",
        "    accuracy = 100. * running_correct/len(data_loader.dataset)\n",
        "    \n",
        "    print(f'{phase} loss is {loss:{5}.{2}} and {phase} accuracy is {running_correct}/{len(data_loader.dataset)}{accuracy:{10}.{4}}')\n",
        "    return loss,accuracy"
      ],
      "execution_count": 46,
      "outputs": []
    },
    {
      "cell_type": "code",
      "metadata": {
        "colab": {
          "base_uri": "https://localhost:8080/"
        },
        "id": "qwbCZKkzn_hs",
        "outputId": "fa70d7b6-478a-4e64-c2f6-9a95981f4dab"
      },
      "source": [
        "train_losses , train_accuracy = [],[]\n",
        "val_losses , val_accuracy = [],[]\n",
        "for epoch in range(1,20):\n",
        "    epoch_loss, epoch_accuracy = fit(epoch,model,train_data_loader,phase='training')\n",
        "    val_epoch_loss , val_epoch_accuracy = fit(epoch,model,test_data_loader,phase='validation')\n",
        "    train_losses.append(epoch_loss)\n",
        "    train_accuracy.append(epoch_accuracy)\n",
        "    val_losses.append(val_epoch_loss)\n",
        "    val_accuracy.append(val_epoch_accuracy)"
      ],
      "execution_count": 47,
      "outputs": [
        {
          "output_type": "stream",
          "text": [
            "/usr/local/lib/python3.7/dist-packages/torch/utils/data/dataloader.py:477: UserWarning: This DataLoader will create 3 worker processes in total. Our suggested max number of worker in current system is 2, which is smaller than what this DataLoader is going to create. Please be aware that excessive worker creation might get DataLoader running slow or even freeze, lower the worker number to avoid potential slowness/freeze if necessary.\n",
            "  cpuset_checked))\n",
            "/usr/local/lib/python3.7/dist-packages/torch/nn/_reduction.py:42: UserWarning: size_average and reduce args will be deprecated, please use reduction='sum' instead.\n",
            "  warnings.warn(warning.format(ret))\n"
          ],
          "name": "stderr"
        },
        {
          "output_type": "stream",
          "text": [
            "training loss is   4.1 and training accuracy is 699/2600     26.88\n",
            "validation loss is   1.9 and validation accuracy is 389/1070     36.36\n",
            "training loss is   1.7 and training accuracy is 939/2600     36.12\n",
            "validation loss is   1.5 and validation accuracy is 421/1070     39.35\n",
            "training loss is   1.4 and training accuracy is 1079/2600      41.5\n",
            "validation loss is   1.4 and validation accuracy is 471/1070     44.02\n",
            "training loss is   1.3 and training accuracy is 1183/2600      45.5\n",
            "validation loss is   1.3 and validation accuracy is 490/1070     45.79\n",
            "training loss is   1.2 and training accuracy is 1336/2600     51.38\n",
            "validation loss is   1.3 and validation accuracy is 496/1070     46.36\n",
            "training loss is   1.1 and training accuracy is 1461/2600     56.19\n",
            "validation loss is   2.0 and validation accuracy is 369/1070     34.49\n",
            "training loss is   1.0 and training accuracy is 1569/2600     60.35\n",
            "validation loss is   1.3 and validation accuracy is 539/1070     50.37\n",
            "training loss is  0.92 and training accuracy is 1651/2600      63.5\n",
            "validation loss is   1.2 and validation accuracy is 588/1070     54.95\n",
            "training loss is  0.83 and training accuracy is 1803/2600     69.35\n",
            "validation loss is   1.2 and validation accuracy is 609/1070     56.92\n",
            "training loss is  0.76 and training accuracy is 1879/2600     72.27\n",
            "validation loss is   1.3 and validation accuracy is 591/1070     55.23\n",
            "training loss is  0.67 and training accuracy is 1984/2600     76.31\n",
            "validation loss is   1.3 and validation accuracy is 607/1070     56.73\n",
            "training loss is  0.51 and training accuracy is 2093/2600      80.5\n",
            "validation loss is   1.2 and validation accuracy is 621/1070     58.04\n",
            "training loss is  0.42 and training accuracy is 2208/2600     84.92\n",
            "validation loss is   1.3 and validation accuracy is 627/1070      58.6\n",
            "training loss is  0.33 and training accuracy is 2311/2600     88.88\n",
            "validation loss is   1.4 and validation accuracy is 604/1070     56.45\n",
            "training loss is  0.27 and training accuracy is 2354/2600     90.54\n",
            "validation loss is   1.5 and validation accuracy is 633/1070     59.16\n",
            "training loss is  0.26 and training accuracy is 2355/2600     90.58\n",
            "validation loss is   1.6 and validation accuracy is 619/1070     57.85\n",
            "training loss is  0.18 and training accuracy is 2435/2600     93.65\n",
            "validation loss is   1.8 and validation accuracy is 620/1070     57.94\n",
            "training loss is  0.16 and training accuracy is 2457/2600      94.5\n",
            "validation loss is   1.9 and validation accuracy is 630/1070     58.88\n",
            "training loss is  0.11 and training accuracy is 2513/2600     96.65\n",
            "validation loss is   1.8 and validation accuracy is 657/1070      61.4\n"
          ],
          "name": "stdout"
        }
      ]
    },
    {
      "cell_type": "code",
      "metadata": {
        "id": "2LwCoFvwoBdl",
        "colab": {
          "base_uri": "https://localhost:8080/",
          "height": 282
        },
        "outputId": "7d7c6b1b-d881-4a53-8684-26fcbbf55f5b"
      },
      "source": [
        "#Loss \n",
        "plt.plot(range(1,len(train_losses)+1),train_losses,'b',label = 'training loss')\n",
        "plt.plot(range(1,len(val_losses)+1),val_losses,'r',label = 'validation loss')\n",
        "plt.legend()"
      ],
      "execution_count": 48,
      "outputs": [
        {
          "output_type": "execute_result",
          "data": {
            "text/plain": [
              "<matplotlib.legend.Legend at 0x7f54fe5692d0>"
            ]
          },
          "metadata": {
            "tags": []
          },
          "execution_count": 48
        },
        {
          "output_type": "display_data",
          "data": {
            "image/png": "[encoded data removed]",
            "text/plain": [
              "<Figure size 432x288 with 1 Axes>"
            ]
          },
          "metadata": {
            "tags": [],
            "needs_background": "light"
          }
        }
      ]
    },
    {
      "cell_type": "code",
      "metadata": {
        "id": "AQEcyiIXoDhm",
        "colab": {
          "base_uri": "https://localhost:8080/",
          "height": 286
        },
        "outputId": "431d3176-cc5a-4e75-d7c7-845c60d70960"
      },
      "source": [
        "#Accuracy\n",
        "plt.plot(range(1,len(train_accuracy)+1),train_accuracy,'b',label = 'train accuracy')\n",
        "plt.plot(range(1,len(val_accuracy)+1),val_accuracy,'r',label = 'val accuracy')\n",
        "plt.legend()"
      ],
      "execution_count": 49,
      "outputs": [
        {
          "output_type": "execute_result",
          "data": {
            "text/plain": [
              "<matplotlib.legend.Legend at 0x7f54fe53ab50>"
            ]
          },
          "metadata": {
            "tags": []
          },
          "execution_count": 49
        },
        {
          "output_type": "display_data",
          "data": {
            "image/png": "[encoded data removed]",
            "text/plain": [
              "<Figure size 432x288 with 1 Axes>"
            ]
          },
          "metadata": {
            "tags": [],
            "needs_background": "light"
          }
        }
      ]
    },
    {
      "cell_type": "markdown",
      "metadata": {
        "id": "5kIAh8g2oH3S"
      },
      "source": [
        "### **Changing the Learning Rate**"
      ]
    },
    {
      "cell_type": "code",
      "metadata": {
        "id": "JDAKwosYoFQD"
      },
      "source": [
        "model = Net()\n",
        "if is_cuda:\n",
        "    model.cuda()"
      ],
      "execution_count": 50,
      "outputs": []
    },
    {
      "cell_type": "code",
      "metadata": {
        "id": "2ON8oGrKoTTq"
      },
      "source": [
        "# optimizer\n",
        "optimizer = torch.optim.Adam(model.parameters(), lr=0.01)"
      ],
      "execution_count": 51,
      "outputs": []
    },
    {
      "cell_type": "code",
      "metadata": {
        "colab": {
          "base_uri": "https://localhost:8080/"
        },
        "id": "4lOaqZ-UoU4r",
        "outputId": "4393cf35-5371-49a2-d639-0c0899704922"
      },
      "source": [
        "train_losses , train_accuracy = [],[]\n",
        "val_losses , val_accuracy = [],[]\n",
        "for epoch in range(1,20):\n",
        "    epoch_loss, epoch_accuracy = fit(epoch,model,train_data_loader,phase='training')\n",
        "    val_epoch_loss , val_epoch_accuracy = fit(epoch,model,test_data_loader,phase='validation')\n",
        "    train_losses.append(epoch_loss)\n",
        "    train_accuracy.append(epoch_accuracy)\n",
        "    val_losses.append(val_epoch_loss)\n",
        "    val_accuracy.append(val_epoch_accuracy)"
      ],
      "execution_count": 52,
      "outputs": [
        {
          "output_type": "stream",
          "text": [
            "/usr/local/lib/python3.7/dist-packages/torch/utils/data/dataloader.py:477: UserWarning: This DataLoader will create 3 worker processes in total. Our suggested max number of worker in current system is 2, which is smaller than what this DataLoader is going to create. Please be aware that excessive worker creation might get DataLoader running slow or even freeze, lower the worker number to avoid potential slowness/freeze if necessary.\n",
            "  cpuset_checked))\n",
            "/usr/local/lib/python3.7/dist-packages/torch/nn/_reduction.py:42: UserWarning: size_average and reduce args will be deprecated, please use reduction='sum' instead.\n",
            "  warnings.warn(warning.format(ret))\n"
          ],
          "name": "stderr"
        },
        {
          "output_type": "stream",
          "text": [
            "training loss is 1.3e+01 and training accuracy is 725/2600     27.88\n",
            "validation loss is   1.5 and validation accuracy is 373/1070     34.86\n",
            "training loss is   1.5 and training accuracy is 951/2600     36.58\n",
            "validation loss is   1.7 and validation accuracy is 337/1070      31.5\n",
            "training loss is   1.4 and training accuracy is 1044/2600     40.15\n",
            "validation loss is   1.5 and validation accuracy is 358/1070     33.46\n",
            "training loss is   1.4 and training accuracy is 1115/2600     42.88\n",
            "validation loss is   1.6 and validation accuracy is 362/1070     33.83\n",
            "training loss is   1.3 and training accuracy is 1190/2600     45.77\n",
            "validation loss is   1.4 and validation accuracy is 435/1070     40.65\n",
            "training loss is   1.3 and training accuracy is 1271/2600     48.88\n",
            "validation loss is   1.4 and validation accuracy is 462/1070     43.18\n",
            "training loss is   1.2 and training accuracy is 1317/2600     50.65\n",
            "validation loss is   2.3 and validation accuracy is 298/1070     27.85\n",
            "training loss is   1.2 and training accuracy is 1363/2600     52.42\n",
            "validation loss is   1.5 and validation accuracy is 406/1070     37.94\n",
            "training loss is   1.1 and training accuracy is 1440/2600     55.38\n",
            "validation loss is   2.6 and validation accuracy is 321/1070      30.0\n",
            "training loss is   1.0 and training accuracy is 1592/2600     61.23\n",
            "validation loss is   1.5 and validation accuracy is 478/1070     44.67\n",
            "training loss is  0.98 and training accuracy is 1589/2600     61.12\n",
            "validation loss is   1.5 and validation accuracy is 512/1070     47.85\n",
            "training loss is  0.84 and training accuracy is 1781/2600      68.5\n",
            "validation loss is   1.5 and validation accuracy is 495/1070     46.26\n",
            "training loss is  0.82 and training accuracy is 1820/2600      70.0\n",
            "validation loss is   2.1 and validation accuracy is 397/1070      37.1\n",
            "training loss is  0.74 and training accuracy is 1868/2600     71.85\n",
            "validation loss is   2.0 and validation accuracy is 490/1070     45.79\n",
            "training loss is  0.68 and training accuracy is 1925/2600     74.04\n",
            "validation loss is   1.9 and validation accuracy is 544/1070     50.84\n",
            "training loss is  0.62 and training accuracy is 1989/2600      76.5\n",
            "validation loss is   1.9 and validation accuracy is 448/1070     41.87\n",
            "training loss is  0.54 and training accuracy is 2083/2600     80.12\n",
            "validation loss is   6.5 and validation accuracy is 267/1070     24.95\n",
            "training loss is  0.53 and training accuracy is 2109/2600     81.12\n",
            "validation loss is   2.2 and validation accuracy is 519/1070      48.5\n",
            "training loss is  0.45 and training accuracy is 2187/2600     84.12\n",
            "validation loss is   2.1 and validation accuracy is 545/1070     50.93\n"
          ],
          "name": "stdout"
        }
      ]
    },
    {
      "cell_type": "code",
      "metadata": {
        "colab": {
          "base_uri": "https://localhost:8080/",
          "height": 282
        },
        "id": "CmL8bLZioWfq",
        "outputId": "93f4583f-3e73-4264-be42-adf6ef03a608"
      },
      "source": [
        "#Loss \n",
        "plt.plot(range(1,len(train_losses)+1),train_losses,'b',label = 'training loss')\n",
        "plt.plot(range(1,len(val_losses)+1),val_losses,'r',label = 'validation loss')\n",
        "plt.legend()"
      ],
      "execution_count": 53,
      "outputs": [
        {
          "output_type": "execute_result",
          "data": {
            "text/plain": [
              "<matplotlib.legend.Legend at 0x7f54fe12bc50>"
            ]
          },
          "metadata": {
            "tags": []
          },
          "execution_count": 53
        },
        {
          "output_type": "display_data",
          "data": {
            "image/png": "[encoded data removed]",
            "text/plain": [
              "<Figure size 432x288 with 1 Axes>"
            ]
          },
          "metadata": {
            "tags": [],
            "needs_background": "light"
          }
        }
      ]
    },
    {
      "cell_type": "code",
      "metadata": {
        "colab": {
          "base_uri": "https://localhost:8080/",
          "height": 282
        },
        "id": "vzHiLMXioYTr",
        "outputId": "fc53f32a-bc02-4cbb-dd1b-ad65f030b4c8"
      },
      "source": [
        "#Accuracy\n",
        "plt.plot(range(1,len(train_accuracy)+1),train_accuracy,'b',label = 'train accuracy')\n",
        "plt.plot(range(1,len(val_accuracy)+1),val_accuracy,'r',label = 'val accuracy')\n",
        "plt.legend()"
      ],
      "execution_count": 54,
      "outputs": [
        {
          "output_type": "execute_result",
          "data": {
            "text/plain": [
              "<matplotlib.legend.Legend at 0x7f54ff466910>"
            ]
          },
          "metadata": {
            "tags": []
          },
          "execution_count": 54
        },
        {
          "output_type": "display_data",
          "data": {
            "image/png": "[encoded data removed]",
            "text/plain": [
              "<Figure size 432x288 with 1 Axes>"
            ]
          },
          "metadata": {
            "tags": [],
            "needs_background": "light"
          }
        }
      ]
    }
  ]
}